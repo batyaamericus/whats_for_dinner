{
 "cells": [
  {
   "cell_type": "code",
   "execution_count": 1,
   "id": "99c06726",
   "metadata": {},
   "outputs": [],
   "source": [
    "import pandas as pd\n",
    "import numpy as np\n",
    "from matplotlib import pyplot as plt\n",
    "import seaborn as sns\n",
    "\n",
    "from sklearn.preprocessing import LabelEncoder\n",
    "from sklearn.preprocessing import StandardScaler\n",
    "from sklearn.linear_model import LogisticRegression\n",
    "from sklearn.metrics import classification_report\n"
   ]
  },
  {
   "cell_type": "code",
   "execution_count": 2,
   "id": "930d4bed",
   "metadata": {},
   "outputs": [
    {
     "data": {
      "text/plain": [
       "(72039, 27)"
      ]
     },
     "execution_count": 2,
     "metadata": {},
     "output_type": "execute_result"
    }
   ],
   "source": [
    "df = pd.read_csv('nba_elo.csv')\n",
    "df.shape"
   ]
  },
  {
   "cell_type": "code",
   "execution_count": 3,
   "id": "53c8d833",
   "metadata": {},
   "outputs": [
    {
     "name": "stdout",
     "output_type": "stream",
     "text": [
      "<class 'pandas.core.frame.DataFrame'>\n",
      "RangeIndex: 72039 entries, 0 to 72038\n",
      "Data columns (total 27 columns):\n",
      " #   Column          Non-Null Count  Dtype  \n",
      "---  ------          --------------  -----  \n",
      " 0   date            72039 non-null  object \n",
      " 1   season          72039 non-null  int64  \n",
      " 2   neutral         72039 non-null  int64  \n",
      " 3   playoff         4626 non-null   object \n",
      " 4   team1           72039 non-null  object \n",
      " 5   team2           72039 non-null  object \n",
      " 6   elo1_pre        72039 non-null  float64\n",
      " 7   elo2_pre        72039 non-null  float64\n",
      " 8   elo_prob1       72039 non-null  float64\n",
      " 9   elo_prob2       72039 non-null  float64\n",
      " 10  elo1_post       72026 non-null  float64\n",
      " 11  elo2_post       72026 non-null  float64\n",
      " 12  carm-elo1_pre   5249 non-null   float64\n",
      " 13  carm-elo2_pre   5249 non-null   float64\n",
      " 14  carm-elo_prob1  5249 non-null   float64\n",
      " 15  carm-elo_prob2  5249 non-null   float64\n",
      " 16  carm-elo1_post  5249 non-null   float64\n",
      " 17  carm-elo2_post  5249 non-null   float64\n",
      " 18  raptor1_pre     4945 non-null   float64\n",
      " 19  raptor2_pre     4945 non-null   float64\n",
      " 20  raptor_prob1    4945 non-null   float64\n",
      " 21  raptor_prob2    4945 non-null   float64\n",
      " 22  score1          72026 non-null  float64\n",
      " 23  score2          72026 non-null  float64\n",
      " 24  quality         72039 non-null  int64  \n",
      " 25  importance      1319 non-null   float64\n",
      " 26  total_rating    1319 non-null   float64\n",
      "dtypes: float64(20), int64(3), object(4)\n",
      "memory usage: 14.8+ MB\n"
     ]
    }
   ],
   "source": [
    "df.info()"
   ]
  },
  {
   "cell_type": "code",
   "execution_count": 4,
   "id": "f059b891",
   "metadata": {},
   "outputs": [],
   "source": [
    "df = df.drop(df[df['score1'].isna()].index)"
   ]
  },
  {
   "cell_type": "markdown",
   "id": "c6ae5728",
   "metadata": {},
   "source": [
    "changes in league scoring system, from 2010 - only taking games from after then"
   ]
  },
  {
   "cell_type": "code",
   "execution_count": 5,
   "id": "07fe758e",
   "metadata": {},
   "outputs": [],
   "source": [
    "as_datetime = pd.to_datetime(df['date'])\n",
    "\n",
    "date_bound = pd.Timestamp('2010-01-01 00:00:00')\n",
    "\n",
    "df.loc[:, 'date_as_dt'] = as_datetime\n",
    "df.drop('date', axis=1)\n",
    "\n",
    "df = df[df['date_as_dt'] > date_bound]\n",
    "df = df.drop('date', axis=1)\n",
    "\n",
    "df = df.reset_index().drop('index', axis=1)"
   ]
  },
  {
   "cell_type": "code",
   "execution_count": 6,
   "id": "9ac6a1da",
   "metadata": {},
   "outputs": [
    {
     "data": {
      "text/plain": [
       "(16034, 27)"
      ]
     },
     "execution_count": 6,
     "metadata": {},
     "output_type": "execute_result"
    }
   ],
   "source": [
    "df.shape"
   ]
  },
  {
   "cell_type": "markdown",
   "id": "7af89391",
   "metadata": {},
   "source": [
    "dropping duplicates in case there are any"
   ]
  },
  {
   "cell_type": "code",
   "execution_count": 7,
   "id": "d96ae8c2",
   "metadata": {},
   "outputs": [],
   "source": [
    "df = df.drop_duplicates()"
   ]
  },
  {
   "cell_type": "markdown",
   "id": "99dfecce",
   "metadata": {},
   "source": [
    "dropping features we don't want / need"
   ]
  },
  {
   "cell_type": "code",
   "execution_count": 8,
   "id": "f7d00061",
   "metadata": {},
   "outputs": [
    {
     "data": {
      "text/plain": [
       "Index(['season', 'neutral', 'playoff', 'team1', 'team2', 'elo1_pre',\n",
       "       'elo2_pre', 'elo_prob1', 'elo_prob2', 'elo1_post', 'elo2_post',\n",
       "       'carm-elo1_pre', 'carm-elo2_pre', 'carm-elo_prob1', 'carm-elo_prob2',\n",
       "       'carm-elo1_post', 'carm-elo2_post', 'raptor1_pre', 'raptor2_pre',\n",
       "       'raptor_prob1', 'raptor_prob2', 'score1', 'score2', 'quality',\n",
       "       'importance', 'total_rating', 'date_as_dt'],\n",
       "      dtype='object')"
      ]
     },
     "execution_count": 8,
     "metadata": {},
     "output_type": "execute_result"
    }
   ],
   "source": [
    "df.columns"
   ]
  },
  {
   "cell_type": "code",
   "execution_count": 9,
   "id": "e65cfcec",
   "metadata": {},
   "outputs": [],
   "source": [
    "feats_to_drop = ['season', 'neutral', 'elo_prob1', 'elo_prob2', 'elo1_post', 'elo2_post', 'carm-elo1_pre', 'carm-elo2_pre', 'carm-elo_prob1', 'carm-elo_prob2',\n",
    "       'carm-elo1_post', 'carm-elo2_post', 'raptor1_pre', 'raptor2_pre',\n",
    "       'raptor_prob1', 'raptor_prob2', 'quality',\n",
    "       'importance', 'total_rating']"
   ]
  },
  {
   "cell_type": "code",
   "execution_count": 10,
   "id": "ab3e856d",
   "metadata": {},
   "outputs": [
    {
     "data": {
      "text/plain": [
       "(16034, 8)"
      ]
     },
     "execution_count": 10,
     "metadata": {},
     "output_type": "execute_result"
    }
   ],
   "source": [
    "df = df.drop(feats_to_drop, axis=1)\n",
    "df.shape"
   ]
  },
  {
   "cell_type": "markdown",
   "id": "61f2aa03",
   "metadata": {},
   "source": [
    "feature engineering target variable"
   ]
  },
  {
   "cell_type": "code",
   "execution_count": 11,
   "id": "b2072125",
   "metadata": {},
   "outputs": [
    {
     "data": {
      "text/plain": [
       "(16034, 7)"
      ]
     },
     "execution_count": 11,
     "metadata": {},
     "output_type": "execute_result"
    }
   ],
   "source": [
    "win_col_bool = (df.score1 < df.score2)\n",
    "df['team_won'] = win_col_bool.astype('int') + 1\n",
    "df = df.drop(['score1', 'score2'], axis=1)\n",
    "df.shape"
   ]
  },
  {
   "cell_type": "markdown",
   "id": "51df7bd7",
   "metadata": {},
   "source": [
    "transforming 'playoff' feature into binary feature"
   ]
  },
  {
   "cell_type": "code",
   "execution_count": 12,
   "id": "35072381",
   "metadata": {},
   "outputs": [
    {
     "data": {
      "text/plain": [
       "array([nan, 't', 'q', 's', 'c', 'f', 'p'], dtype=object)"
      ]
     },
     "execution_count": 12,
     "metadata": {},
     "output_type": "execute_result"
    }
   ],
   "source": [
    "df['playoff'].unique()"
   ]
  },
  {
   "cell_type": "code",
   "execution_count": 13,
   "id": "b45afcca",
   "metadata": {},
   "outputs": [],
   "source": [
    "df['enc_playoff'] = df['playoff'].notna().astype(int)"
   ]
  },
  {
   "cell_type": "code",
   "execution_count": 14,
   "id": "86e11b3e",
   "metadata": {},
   "outputs": [
    {
     "data": {
      "text/plain": [
       "(16034, 7)"
      ]
     },
     "execution_count": 14,
     "metadata": {},
     "output_type": "execute_result"
    }
   ],
   "source": [
    "df = df.drop('playoff', axis=1)\n",
    "df.shape"
   ]
  },
  {
   "cell_type": "code",
   "execution_count": 15,
   "id": "57e0e53a",
   "metadata": {},
   "outputs": [
    {
     "data": {
      "text/html": [
       "<div>\n",
       "<style scoped>\n",
       "    .dataframe tbody tr th:only-of-type {\n",
       "        vertical-align: middle;\n",
       "    }\n",
       "\n",
       "    .dataframe tbody tr th {\n",
       "        vertical-align: top;\n",
       "    }\n",
       "\n",
       "    .dataframe thead th {\n",
       "        text-align: right;\n",
       "    }\n",
       "</style>\n",
       "<table border=\"1\" class=\"dataframe\">\n",
       "  <thead>\n",
       "    <tr style=\"text-align: right;\">\n",
       "      <th></th>\n",
       "      <th>team1</th>\n",
       "      <th>team2</th>\n",
       "      <th>elo1_pre</th>\n",
       "      <th>elo2_pre</th>\n",
       "      <th>date_as_dt</th>\n",
       "      <th>team_won</th>\n",
       "      <th>enc_playoff</th>\n",
       "    </tr>\n",
       "  </thead>\n",
       "  <tbody>\n",
       "    <tr>\n",
       "      <th>0</th>\n",
       "      <td>BOS</td>\n",
       "      <td>TOR</td>\n",
       "      <td>1660.5702</td>\n",
       "      <td>1496.2823</td>\n",
       "      <td>2010-01-02</td>\n",
       "      <td>1</td>\n",
       "      <td>0</td>\n",
       "    </tr>\n",
       "    <tr>\n",
       "      <th>1</th>\n",
       "      <td>IND</td>\n",
       "      <td>MIN</td>\n",
       "      <td>1374.8478</td>\n",
       "      <td>1304.9703</td>\n",
       "      <td>2010-01-02</td>\n",
       "      <td>1</td>\n",
       "      <td>0</td>\n",
       "    </tr>\n",
       "    <tr>\n",
       "      <th>2</th>\n",
       "      <td>NJN</td>\n",
       "      <td>CLE</td>\n",
       "      <td>1302.0889</td>\n",
       "      <td>1742.0925</td>\n",
       "      <td>2010-01-02</td>\n",
       "      <td>2</td>\n",
       "      <td>0</td>\n",
       "    </tr>\n",
       "    <tr>\n",
       "      <th>3</th>\n",
       "      <td>UTA</td>\n",
       "      <td>DEN</td>\n",
       "      <td>1560.9200</td>\n",
       "      <td>1598.8054</td>\n",
       "      <td>2010-01-02</td>\n",
       "      <td>2</td>\n",
       "      <td>0</td>\n",
       "    </tr>\n",
       "    <tr>\n",
       "      <th>4</th>\n",
       "      <td>POR</td>\n",
       "      <td>GSW</td>\n",
       "      <td>1574.6274</td>\n",
       "      <td>1397.9839</td>\n",
       "      <td>2010-01-02</td>\n",
       "      <td>1</td>\n",
       "      <td>0</td>\n",
       "    </tr>\n",
       "  </tbody>\n",
       "</table>\n",
       "</div>"
      ],
      "text/plain": [
       "  team1 team2   elo1_pre   elo2_pre date_as_dt  team_won  enc_playoff\n",
       "0   BOS   TOR  1660.5702  1496.2823 2010-01-02         1            0\n",
       "1   IND   MIN  1374.8478  1304.9703 2010-01-02         1            0\n",
       "2   NJN   CLE  1302.0889  1742.0925 2010-01-02         2            0\n",
       "3   UTA   DEN  1560.9200  1598.8054 2010-01-02         2            0\n",
       "4   POR   GSW  1574.6274  1397.9839 2010-01-02         1            0"
      ]
     },
     "execution_count": 15,
     "metadata": {},
     "output_type": "execute_result"
    }
   ],
   "source": [
    "df.head()"
   ]
  },
  {
   "cell_type": "markdown",
   "id": "fdad935d",
   "metadata": {},
   "source": [
    "making unique id now so that we can match it later"
   ]
  },
  {
   "cell_type": "code",
   "execution_count": 16,
   "id": "3f28a972",
   "metadata": {},
   "outputs": [],
   "source": [
    "df['uid'] = df['team1'] + df['team2'] + df['date_as_dt'].astype('str')"
   ]
  },
  {
   "cell_type": "markdown",
   "id": "be66ee07",
   "metadata": {},
   "source": [
    "creating game results for opposing teams"
   ]
  },
  {
   "cell_type": "code",
   "execution_count": 17,
   "id": "3119788b",
   "metadata": {},
   "outputs": [],
   "source": [
    "df2 = df.copy()\n",
    "# switching team names\n",
    "df2['team_1'] = df['team2']\n",
    "df2['team_2'] = df['team1']\n",
    "df2['team1'] = df2['team_1']\n",
    "df2['team2'] = df2['team_2']\n",
    "df2 = df2.drop(['team_1', 'team_2'], axis=1)\n",
    "# switching team elos\n",
    "df2['elo_1_pre'] = df['elo2_pre']\n",
    "df2['elo_2_pre'] = df['elo1_pre']\n",
    "df2['elo1_pre'] = df2['elo_1_pre']\n",
    "df2['elo2_pre'] = df2['elo_2_pre']\n",
    "df2 = df2.drop(['elo_1_pre', 'elo_2_pre'], axis=1)\n",
    "# switching team win\n",
    "df2['team_won'] = (df2['team_won'] == 1).astype(int) + 1\n",
    "# adding uids\n",
    "df2['uid'] = df['uid']"
   ]
  },
  {
   "cell_type": "code",
   "execution_count": 18,
   "id": "e39a1c18",
   "metadata": {},
   "outputs": [
    {
     "data": {
      "text/plain": [
       "(32068, 8)"
      ]
     },
     "execution_count": 18,
     "metadata": {},
     "output_type": "execute_result"
    }
   ],
   "source": [
    "df = pd.concat([df, df2], axis=0)\n",
    "df.shape"
   ]
  },
  {
   "cell_type": "markdown",
   "id": "d7de3e40",
   "metadata": {},
   "source": [
    "splitting data into train and test according to date"
   ]
  },
  {
   "cell_type": "code",
   "execution_count": 19,
   "id": "576bf03a",
   "metadata": {},
   "outputs": [
    {
     "data": {
      "text/plain": [
       "((20668, 8), (11400, 8))"
      ]
     },
     "execution_count": 19,
     "metadata": {},
     "output_type": "execute_result"
    }
   ],
   "source": [
    "date_bound = pd.Timestamp('2018-01-01 00:00:00')\n",
    "train = df[df['date_as_dt'] < date_bound]\n",
    "test = df[~(df['date_as_dt'] < date_bound)]\n",
    "\n",
    "train.shape, test.shape"
   ]
  },
  {
   "cell_type": "code",
   "execution_count": 20,
   "id": "33289852",
   "metadata": {},
   "outputs": [
    {
     "data": {
      "text/plain": [
       "((20668, 7), (11400, 7), (20668,), (11400,))"
      ]
     },
     "execution_count": 20,
     "metadata": {},
     "output_type": "execute_result"
    }
   ],
   "source": [
    "X_train = train.drop('team_won', axis=1)\n",
    "y_train = train['team_won']\n",
    "\n",
    "X_test = test.drop('team_won', axis=1)\n",
    "y_test = test['team_won']\n",
    "\n",
    "X_train.shape, X_test.shape, y_train.shape, y_test.shape"
   ]
  },
  {
   "cell_type": "code",
   "execution_count": 21,
   "id": "25727133",
   "metadata": {},
   "outputs": [
    {
     "data": {
      "text/plain": [
       "(0.6445054259698142, 0.35549457403018586)"
      ]
     },
     "execution_count": 21,
     "metadata": {},
     "output_type": "execute_result"
    }
   ],
   "source": [
    "X_train.shape[0] / df.shape[0], X_test.shape[0] / df.shape[0]"
   ]
  },
  {
   "cell_type": "markdown",
   "id": "3ea1abef",
   "metadata": {},
   "source": [
    "extracting uids for later"
   ]
  },
  {
   "cell_type": "code",
   "execution_count": 22,
   "id": "bc379577",
   "metadata": {},
   "outputs": [],
   "source": [
    "x_test_uids = X_test['uid']\n",
    "X_test = X_test.drop('uid', axis=1)\n",
    "X_train = X_train.drop('uid', axis=1)"
   ]
  },
  {
   "cell_type": "markdown",
   "id": "95266e8d",
   "metadata": {},
   "source": [
    "label encoding team names"
   ]
  },
  {
   "cell_type": "code",
   "execution_count": 23,
   "id": "456097c7",
   "metadata": {},
   "outputs": [],
   "source": [
    "cols = ['team1', 'team2']\n",
    "x_train_team_names = X_train[cols].values\n",
    "x_test_team_names = X_test[cols].values"
   ]
  },
  {
   "cell_type": "code",
   "execution_count": 24,
   "id": "b40a5ebb",
   "metadata": {},
   "outputs": [],
   "source": [
    "le = LabelEncoder()\n",
    "le.fit(X_train['team1'])\n",
    "\n",
    "X_test['team1'] = X_test['team1'].map(lambda s: '<unknown>' if s not in le.classes_ else s)\n",
    "X_test['team2'] = X_test['team2'].map(lambda s: '<unknown>' if s not in le.classes_ else s)\n",
    "\n",
    "le.classes_ = np.append(le.classes_, '<unknown>')\n",
    "\n",
    "X_train['enc_team1'] = le.transform(X_train['team1'])\n",
    "X_train['enc_team2'] = le.transform(X_train['team2'])\n",
    "X_test['enc_team1'] = le.transform(X_test['team1'])\n",
    "X_test['enc_team2'] = le.transform(X_test['team2'])\n",
    "\n",
    "X_train = X_train.drop(cols, axis=1)\n",
    "X_test = X_test.drop(cols, axis=1)"
   ]
  },
  {
   "cell_type": "code",
   "execution_count": 25,
   "id": "9096c74a",
   "metadata": {},
   "outputs": [
    {
     "data": {
      "text/html": [
       "<div>\n",
       "<style scoped>\n",
       "    .dataframe tbody tr th:only-of-type {\n",
       "        vertical-align: middle;\n",
       "    }\n",
       "\n",
       "    .dataframe tbody tr th {\n",
       "        vertical-align: top;\n",
       "    }\n",
       "\n",
       "    .dataframe thead th {\n",
       "        text-align: right;\n",
       "    }\n",
       "</style>\n",
       "<table border=\"1\" class=\"dataframe\">\n",
       "  <thead>\n",
       "    <tr style=\"text-align: right;\">\n",
       "      <th></th>\n",
       "      <th>elo1_pre</th>\n",
       "      <th>elo2_pre</th>\n",
       "      <th>date_as_dt</th>\n",
       "      <th>enc_playoff</th>\n",
       "      <th>enc_team1</th>\n",
       "      <th>enc_team2</th>\n",
       "    </tr>\n",
       "  </thead>\n",
       "  <tbody>\n",
       "    <tr>\n",
       "      <th>0</th>\n",
       "      <td>1660.5702</td>\n",
       "      <td>1496.2823</td>\n",
       "      <td>2010-01-02</td>\n",
       "      <td>0</td>\n",
       "      <td>1</td>\n",
       "      <td>28</td>\n",
       "    </tr>\n",
       "    <tr>\n",
       "      <th>1</th>\n",
       "      <td>1374.8478</td>\n",
       "      <td>1304.9703</td>\n",
       "      <td>2010-01-02</td>\n",
       "      <td>0</td>\n",
       "      <td>11</td>\n",
       "      <td>17</td>\n",
       "    </tr>\n",
       "    <tr>\n",
       "      <th>2</th>\n",
       "      <td>1302.0889</td>\n",
       "      <td>1742.0925</td>\n",
       "      <td>2010-01-02</td>\n",
       "      <td>0</td>\n",
       "      <td>18</td>\n",
       "      <td>5</td>\n",
       "    </tr>\n",
       "    <tr>\n",
       "      <th>3</th>\n",
       "      <td>1560.9200</td>\n",
       "      <td>1598.8054</td>\n",
       "      <td>2010-01-02</td>\n",
       "      <td>0</td>\n",
       "      <td>29</td>\n",
       "      <td>7</td>\n",
       "    </tr>\n",
       "    <tr>\n",
       "      <th>4</th>\n",
       "      <td>1574.6274</td>\n",
       "      <td>1397.9839</td>\n",
       "      <td>2010-01-02</td>\n",
       "      <td>0</td>\n",
       "      <td>25</td>\n",
       "      <td>9</td>\n",
       "    </tr>\n",
       "  </tbody>\n",
       "</table>\n",
       "</div>"
      ],
      "text/plain": [
       "    elo1_pre   elo2_pre date_as_dt  enc_playoff  enc_team1  enc_team2\n",
       "0  1660.5702  1496.2823 2010-01-02            0          1         28\n",
       "1  1374.8478  1304.9703 2010-01-02            0         11         17\n",
       "2  1302.0889  1742.0925 2010-01-02            0         18          5\n",
       "3  1560.9200  1598.8054 2010-01-02            0         29          7\n",
       "4  1574.6274  1397.9839 2010-01-02            0         25          9"
      ]
     },
     "execution_count": 25,
     "metadata": {},
     "output_type": "execute_result"
    }
   ],
   "source": [
    "X_train.head()"
   ]
  },
  {
   "cell_type": "markdown",
   "id": "5cfaaefb",
   "metadata": {},
   "source": [
    "turning datetime into integer in order to put into model"
   ]
  },
  {
   "cell_type": "code",
   "execution_count": 26,
   "id": "bf138b23",
   "metadata": {},
   "outputs": [],
   "source": [
    "x_train_dates = X_train['date_as_dt'].values\n",
    "x_test_dates = X_test['date_as_dt'].values\n",
    "X_train['date_as_dt'] = X_train['date_as_dt'].apply(lambda x: x.value) / 10**9\n",
    "X_test['date_as_dt'] = X_test['date_as_dt'].apply(lambda x: x.value) / 10**9"
   ]
  },
  {
   "cell_type": "code",
   "execution_count": 27,
   "id": "30aba535",
   "metadata": {},
   "outputs": [
    {
     "data": {
      "text/plain": [
       "((20668, 6), (11400, 6))"
      ]
     },
     "execution_count": 27,
     "metadata": {},
     "output_type": "execute_result"
    }
   ],
   "source": [
    "scaler = StandardScaler()\n",
    "scaler.fit(X_train)\n",
    "\n",
    "X_train_ss = scaler.transform(X_train)\n",
    "X_test_ss = scaler.transform(X_test)\n",
    "\n",
    "\n",
    "X_train = pd.DataFrame(data=X_train_ss, columns=X_train.columns)\n",
    "X_test = pd.DataFrame(data=X_test_ss, columns=X_test.columns)\n",
    "X_train.shape, X_test.shape"
   ]
  },
  {
   "cell_type": "markdown",
   "id": "b53729fa",
   "metadata": {},
   "source": [
    "baseline model 1"
   ]
  },
  {
   "cell_type": "code",
   "execution_count": 28,
   "id": "88577213",
   "metadata": {},
   "outputs": [
    {
     "data": {
      "text/plain": [
       "LogisticRegression()"
      ]
     },
     "execution_count": 28,
     "metadata": {},
     "output_type": "execute_result"
    }
   ],
   "source": [
    "from sklearn.linear_model import LogisticRegression\n",
    "\n",
    "lr = LogisticRegression()\n",
    "lr.fit(X_train, y_train)"
   ]
  },
  {
   "cell_type": "code",
   "execution_count": 29,
   "id": "93f763bc",
   "metadata": {},
   "outputs": [
    {
     "name": "stdout",
     "output_type": "stream",
     "text": [
      "              precision    recall  f1-score   support\n",
      "\n",
      "           1       0.64      0.64      0.64      5700\n",
      "           2       0.64      0.64      0.64      5700\n",
      "\n",
      "    accuracy                           0.64     11400\n",
      "   macro avg       0.64      0.64      0.64     11400\n",
      "weighted avg       0.64      0.64      0.64     11400\n",
      "\n"
     ]
    },
    {
     "data": {
      "text/plain": [
       "4086"
      ]
     },
     "execution_count": 29,
     "metadata": {},
     "output_type": "execute_result"
    }
   ],
   "source": [
    "y_pred = lr.predict(X_test)\n",
    "\n",
    "print(classification_report(y_test, y_pred))\n",
    "y_pred.shape[0] - (y_pred == y_test).sum()"
   ]
  },
  {
   "cell_type": "code",
   "execution_count": 30,
   "id": "0ea246d5",
   "metadata": {},
   "outputs": [
    {
     "data": {
      "text/plain": [
       "array([[0.62889229, 0.37110771],\n",
       "       [0.65038663, 0.34961337],\n",
       "       [0.72586362, 0.27413638],\n",
       "       ...,\n",
       "       [0.34118306, 0.65881694],\n",
       "       [0.47949783, 0.52050217],\n",
       "       [0.61227499, 0.38772501]])"
      ]
     },
     "execution_count": 30,
     "metadata": {},
     "output_type": "execute_result"
    }
   ],
   "source": [
    "proba = lr.predict_proba(X_test)\n",
    "proba"
   ]
  },
  {
   "cell_type": "code",
   "execution_count": 31,
   "id": "81b7e2ff",
   "metadata": {},
   "outputs": [],
   "source": [
    "X_test['y_pred'] = y_pred\n",
    "X_test[['prob1', 'prob2']] = proba * 100\n",
    "X_test['uid'] = x_test_uids.values\n",
    "X_test[['team1', 'team2']] = x_test_team_names\n",
    "with open('initial_preds.csv', 'w') as initial_preds_file:\n",
    "    X_test.to_csv(initial_preds_file, index=False)\n"
   ]
  },
  {
   "cell_type": "markdown",
   "id": "c3ff370a",
   "metadata": {},
   "source": [
    "baseline model using elos"
   ]
  },
  {
   "cell_type": "code",
   "execution_count": 32,
   "id": "52f632b7",
   "metadata": {},
   "outputs": [
    {
     "data": {
      "text/plain": [
       "0.6382456140350877"
      ]
     },
     "execution_count": 32,
     "metadata": {},
     "output_type": "execute_result"
    }
   ],
   "source": [
    "elo_col_bool = (X_test['elo1_pre'] < X_test['elo2_pre']).astype(int)\n",
    "results = elo_col_bool + 1\n",
    "(results == y_test.reset_index()['team_won']).sum() / X_test.shape[0]"
   ]
  },
  {
   "cell_type": "code",
   "execution_count": 33,
   "id": "c2195f9d",
   "metadata": {},
   "outputs": [
    {
     "name": "stdout",
     "output_type": "stream",
     "text": [
      "              precision    recall  f1-score   support\n",
      "\n",
      "           1       0.64      0.64      0.64      5700\n",
      "           2       0.64      0.64      0.64      5700\n",
      "\n",
      "    accuracy                           0.64     11400\n",
      "   macro avg       0.64      0.64      0.64     11400\n",
      "weighted avg       0.64      0.64      0.64     11400\n",
      "\n"
     ]
    }
   ],
   "source": [
    "print(classification_report(y_test, results))"
   ]
  },
  {
   "cell_type": "code",
   "execution_count": null,
   "id": "d6c111c7",
   "metadata": {},
   "outputs": [],
   "source": []
  }
 ],
 "metadata": {
  "kernelspec": {
   "display_name": "Python 3 (ipykernel)",
   "language": "python",
   "name": "python3"
  },
  "language_info": {
   "codemirror_mode": {
    "name": "ipython",
    "version": 3
   },
   "file_extension": ".py",
   "mimetype": "text/x-python",
   "name": "python",
   "nbconvert_exporter": "python",
   "pygments_lexer": "ipython3",
   "version": "3.9.7"
  },
  "latex_envs": {
   "LaTeX_envs_menu_present": true,
   "autoclose": false,
   "autocomplete": true,
   "bibliofile": "biblio.bib",
   "cite_by": "apalike",
   "current_citInitial": 1,
   "eqLabelWithNumbers": true,
   "eqNumInitial": 1,
   "hotkeys": {
    "equation": "Ctrl-E",
    "itemize": "Ctrl-I"
   },
   "labels_anchors": false,
   "latex_user_defs": false,
   "report_style_numbering": false,
   "user_envs_cfg": false
  }
 },
 "nbformat": 4,
 "nbformat_minor": 5
}
