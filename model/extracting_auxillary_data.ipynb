{
 "cells": [
  {
   "cell_type": "code",
   "execution_count": 1,
   "id": "819b15ee",
   "metadata": {},
   "outputs": [],
   "source": [
    "import pandas as pd\n",
    "import json"
   ]
  },
  {
   "cell_type": "code",
   "execution_count": 2,
   "id": "b2f0f665",
   "metadata": {},
   "outputs": [
    {
     "name": "stdout",
     "output_type": "stream",
     "text": [
      "101\n",
      "101\n",
      "101\n",
      "101\n",
      "101\n",
      "101\n",
      "101\n",
      "101\n",
      "101\n",
      "101\n",
      "101\n",
      "101\n",
      "101\n",
      "101\n",
      "101\n",
      "101\n",
      "101\n",
      "101\n",
      "101\n",
      "101\n",
      "101\n",
      "101\n",
      "101\n",
      "101\n",
      "101\n"
     ]
    }
   ],
   "source": [
    "# defensive\n",
    "df_jsons = pd.read_json('defensive_ratings.json', orient='index')\n",
    "counter = 0\n",
    "new_df = pd.DataFrame()\n",
    "for date in df_jsons.index:\n",
    "    dict_iter = json.loads(df_jsons.loc[date].values[0]) # keys: Rank, Team, Year 1, Last 3, Last 1, Home, Away, Year 2\n",
    "    dict_iter_keys = dict_iter.keys()\n",
    "    year1_iter = list(dict_iter_keys)[2]\n",
    "    year2_iter = list(dict_iter_keys)[-1]\n",
    "    df_iter = pd.DataFrame(dict_iter).drop(columns=['Rank', year1_iter, year2_iter])\n",
    "    df_iter['date'] = date\n",
    "    new_df = pd.concat([new_df, df_iter], axis=0)\n",
    "    counter += 1\n",
    "    if counter > 100:\n",
    "        print(counter)\n",
    "        counter = 0"
   ]
  },
  {
   "cell_type": "code",
   "execution_count": 3,
   "id": "a0504408",
   "metadata": {},
   "outputs": [],
   "source": [
    "with open('def_extra_info.csv', 'w') as def_file:\n",
    "    new_df.to_csv(def_file, index=False)"
   ]
  },
  {
   "cell_type": "code",
   "execution_count": 5,
   "id": "5babeb96",
   "metadata": {},
   "outputs": [
    {
     "name": "stdout",
     "output_type": "stream",
     "text": [
      "101\n",
      "101\n",
      "101\n",
      "101\n",
      "101\n",
      "101\n",
      "101\n",
      "101\n",
      "101\n",
      "101\n",
      "101\n",
      "101\n",
      "101\n",
      "101\n",
      "101\n",
      "101\n",
      "101\n",
      "101\n",
      "101\n",
      "101\n",
      "101\n",
      "101\n",
      "101\n",
      "101\n",
      "101\n"
     ]
    }
   ],
   "source": [
    "# offensive\n",
    "df_jsons = pd.read_json('offensive_ratings.json', orient='index')\n",
    "counter = 0\n",
    "new_df = pd.DataFrame()\n",
    "for date in df_jsons.index:\n",
    "    dict_iter = json.loads(df_jsons.loc[date].values[0]) # keys: Rank, Team, Year 1, Last 3, Last 1, Home, Away, Year 2\n",
    "    dict_iter_keys = dict_iter.keys()\n",
    "    year1_iter = list(dict_iter_keys)[2]\n",
    "    year2_iter = list(dict_iter_keys)[-1]\n",
    "    df_iter = pd.DataFrame(dict_iter).drop(columns=['Rank', year1_iter, year2_iter])\n",
    "    df_iter['date'] = date\n",
    "    new_df = pd.concat([new_df, df_iter], axis=0)\n",
    "    counter += 1\n",
    "    if counter > 100:\n",
    "        print(counter)\n",
    "        counter = 0"
   ]
  },
  {
   "cell_type": "code",
   "execution_count": 6,
   "id": "ddad47e0",
   "metadata": {},
   "outputs": [],
   "source": [
    "with open('off_extra_info.csv', 'w') as off_file:\n",
    "    new_df.to_csv(off_file, index=False)"
   ]
  },
  {
   "cell_type": "code",
   "execution_count": null,
   "id": "dc1ec5c1",
   "metadata": {},
   "outputs": [],
   "source": []
  }
 ],
 "metadata": {
  "kernelspec": {
   "display_name": "Python 3 (ipykernel)",
   "language": "python",
   "name": "python3"
  },
  "language_info": {
   "codemirror_mode": {
    "name": "ipython",
    "version": 3
   },
   "file_extension": ".py",
   "mimetype": "text/x-python",
   "name": "python",
   "nbconvert_exporter": "python",
   "pygments_lexer": "ipython3",
   "version": "3.9.7"
  },
  "latex_envs": {
   "LaTeX_envs_menu_present": true,
   "autoclose": false,
   "autocomplete": true,
   "bibliofile": "biblio.bib",
   "cite_by": "apalike",
   "current_citInitial": 1,
   "eqLabelWithNumbers": true,
   "eqNumInitial": 1,
   "hotkeys": {
    "equation": "Ctrl-E",
    "itemize": "Ctrl-I"
   },
   "labels_anchors": false,
   "latex_user_defs": false,
   "report_style_numbering": false,
   "user_envs_cfg": false
  }
 },
 "nbformat": 4,
 "nbformat_minor": 5
}
